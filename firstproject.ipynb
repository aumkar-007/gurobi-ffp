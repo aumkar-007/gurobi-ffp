{
 "cells": [
  {
   "cell_type": "code",
   "execution_count": 5,
   "metadata": {},
   "outputs": [],
   "source": [
    "from gurobipy import *"
   ]
  },
  {
   "cell_type": "code",
   "execution_count": 6,
   "metadata": {},
   "outputs": [
    {
     "name": "stdout",
     "output_type": "stream",
     "text": [
      "Set parameter Username\n",
      "Academic license - for non-commercial use only - expires 2024-08-29\n"
     ]
    }
   ],
   "source": [
    "m=Model(\"Furniture\") #model initiated"
   ]
  },
  {
   "cell_type": "code",
   "execution_count": 7,
   "metadata": {},
   "outputs": [],
   "source": [
    "# creating decision variables, each indicative of the number of products manufactured\n",
    "x1=m.addVar(name=\"chairs\")\n",
    "x2=m.addVar(name=\"tables\")"
   ]
  },
  {
   "cell_type": "markdown",
   "metadata": {},
   "source": [
    "If we want to scale a problem we must parametrize and abstract it. \n",
    "Using suitable data structures, for eg.,\n",
    "use multidict function which returns a list that maps each key to its value.\n",
    "products, price = multidict({\n",
    "          'chair': 45,\n",
    "          'table': 80\n",
    "})\n",
    "we can use a two tuple as a key to map to the resource required by a product with its quantity per\n",
    "dv = m.addVars(products, name=\"dv\")"
   ]
  },
  {
   "cell_type": "code",
   "execution_count": 14,
   "metadata": {},
   "outputs": [],
   "source": [
    "#defining objective function to maximise total revenue\n",
    "#1st is expression to be optimised\n",
    "#2nd is sense of optimisation\n",
    "m.setObjective(45*x1 + 80*x2, GRB.MAXIMIZE)\n",
    "#can also be parametrized as m.setObjective(make.prod(revenue), GRB.MAXIMIZE)"
   ]
  },
  {
   "cell_type": "code",
   "execution_count": 13,
   "metadata": {},
   "outputs": [
    {
     "data": {
      "text/plain": [
       "<gurobi.Constr *Awaiting Model Update*>"
      ]
     },
     "execution_count": 13,
     "metadata": {},
     "output_type": "execute_result"
    }
   ],
   "source": [
    "m.addConstr(5*x1 + 20*x2 <= 400 ,\"mahagony\") #mahagony constraint \n",
    "m.addConstr(10*x1 + 15*x2 <=450,\"labour\")  #labour constraint\n",
    "# 5, 10, 15, 20 are technology coeffiecients"
   ]
  },
  {
   "cell_type": "markdown",
   "metadata": {},
   "source": [
    "res= m.addConstrs(((sum(bom[r,p]*make[p] for p in products) <= capacity[r]) for r in resources, name='R')"
   ]
  },
  {
   "cell_type": "markdown",
   "metadata": {},
   "source": [
    "m.write('furniture.lp') #save model for inspection"
   ]
  },
  {
   "cell_type": "code",
   "execution_count": 10,
   "metadata": {},
   "outputs": [
    {
     "name": "stdout",
     "output_type": "stream",
     "text": [
      "Gurobi Optimizer version 10.0.2 build v10.0.2rc0 (win64)\n",
      "\n",
      "CPU model: Intel(R) Core(TM) i7-1065G7 CPU @ 1.30GHz, instruction set [SSE2|AVX|AVX2|AVX512]\n",
      "Thread count: 4 physical cores, 8 logical processors, using up to 8 threads\n",
      "\n",
      "Optimize a model with 2 rows, 2 columns and 4 nonzeros\n",
      "Model fingerprint: 0xd0437183\n",
      "Coefficient statistics:\n",
      "  Matrix range     [5e+00, 2e+01]\n",
      "  Objective range  [5e+01, 8e+01]\n",
      "  Bounds range     [0e+00, 0e+00]\n",
      "  RHS range        [4e+02, 5e+02]\n",
      "Presolve time: 0.02s\n",
      "Presolved: 2 rows, 2 columns, 4 nonzeros\n",
      "\n",
      "Iteration    Objective       Primal Inf.    Dual Inf.      Time\n",
      "       0    6.5000000e+31   2.968750e+30   6.500000e+01      0s\n",
      "       2    2.2000000e+03   0.000000e+00   0.000000e+00      0s\n",
      "\n",
      "Solved in 2 iterations and 0.05 seconds (0.00 work units)\n",
      "Optimal objective  2.200000000e+03\n"
     ]
    }
   ],
   "source": [
    "m.optimize()"
   ]
  },
  {
   "cell_type": "markdown",
   "metadata": {},
   "source": [
    "matrix range tells minimum and maximum absolute value of the technology coeffiecients\n",
    "objective range tells minimum and maximum absolute value of the objective function coeffiecients\n",
    "bound range tells minimum and maximum absolute value of the upper and lower bounds on the variable\n",
    "RHS range tells minimum and maximum absolute value of the RHS"
   ]
  },
  {
   "cell_type": "code",
   "execution_count": 12,
   "metadata": {},
   "outputs": [
    {
     "name": "stdout",
     "output_type": "stream",
     "text": [
      "chairs 24.0\n",
      "tables 14.0\n",
      "Optimal total revenue 2200.0\n"
     ]
    }
   ],
   "source": [
    "#displays production plan\n",
    "for v in m.getVars():\n",
    "    print(v.varName, v.x)\n",
    "print('Optimal total revenue', m.objVal)"
   ]
  }
 ],
 "metadata": {
  "kernelspec": {
   "display_name": "Python 3 (ipykernel)",
   "language": "python",
   "name": "python3"
  },
  "language_info": {
   "codemirror_mode": {
    "name": "ipython",
    "version": 3
   },
   "file_extension": ".py",
   "mimetype": "text/x-python",
   "name": "python",
   "nbconvert_exporter": "python",
   "pygments_lexer": "ipython3",
   "version": "3.9.4"
  },
  "vscode": {
   "interpreter": {
    "hash": "ad2bdc8ecc057115af97d19610ffacc2b4e99fae6737bb82f5d7fb13d2f2c186"
   }
  }
 },
 "nbformat": 4,
 "nbformat_minor": 4
}
